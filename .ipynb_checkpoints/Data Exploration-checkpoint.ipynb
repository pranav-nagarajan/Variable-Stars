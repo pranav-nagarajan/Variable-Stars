{
 "cells": [
  {
   "cell_type": "code",
   "execution_count": 22,
   "metadata": {},
   "outputs": [],
   "source": [
    "import numpy as np\n",
    "import pandas as pd\n",
    "import matplotlib.pyplot as plt"
   ]
  },
  {
   "cell_type": "code",
   "execution_count": 13,
   "metadata": {},
   "outputs": [
    {
     "name": "stdout",
     "output_type": "stream",
     "text": [
      "<class 'pandas.core.frame.DataFrame'>\n",
      "RangeIndex: 370 entries, 0 to 369\n",
      "Data columns (total 4 columns):\n",
      "HJD-2400000.0               370 non-null float64\n",
      "Magnitude                   370 non-null float64\n",
      "Uncertainty in Magnitude    370 non-null float64\n",
      "Passband                    370 non-null float64\n",
      "dtypes: float64(4)\n",
      "memory usage: 11.6 KB\n"
     ]
    },
    {
     "data": {
      "text/html": [
       "<div>\n",
       "<style scoped>\n",
       "    .dataframe tbody tr th:only-of-type {\n",
       "        vertical-align: middle;\n",
       "    }\n",
       "\n",
       "    .dataframe tbody tr th {\n",
       "        vertical-align: top;\n",
       "    }\n",
       "\n",
       "    .dataframe thead th {\n",
       "        text-align: right;\n",
       "    }\n",
       "</style>\n",
       "<table border=\"1\" class=\"dataframe\">\n",
       "  <thead>\n",
       "    <tr style=\"text-align: right;\">\n",
       "      <th></th>\n",
       "      <th>HJD-2400000.0</th>\n",
       "      <th>Magnitude</th>\n",
       "      <th>Uncertainty in Magnitude</th>\n",
       "      <th>Passband</th>\n",
       "    </tr>\n",
       "  </thead>\n",
       "  <tbody>\n",
       "    <tr>\n",
       "      <th>0</th>\n",
       "      <td>56423.664062</td>\n",
       "      <td>27.769</td>\n",
       "      <td>0.030</td>\n",
       "      <td>0.0</td>\n",
       "    </tr>\n",
       "    <tr>\n",
       "      <th>1</th>\n",
       "      <td>56423.812500</td>\n",
       "      <td>28.160</td>\n",
       "      <td>0.029</td>\n",
       "      <td>0.0</td>\n",
       "    </tr>\n",
       "    <tr>\n",
       "      <th>2</th>\n",
       "      <td>56423.894531</td>\n",
       "      <td>28.089</td>\n",
       "      <td>0.021</td>\n",
       "      <td>0.0</td>\n",
       "    </tr>\n",
       "    <tr>\n",
       "      <th>3</th>\n",
       "      <td>56424.718750</td>\n",
       "      <td>27.882</td>\n",
       "      <td>0.024</td>\n",
       "      <td>0.0</td>\n",
       "    </tr>\n",
       "    <tr>\n",
       "      <th>4</th>\n",
       "      <td>56424.808594</td>\n",
       "      <td>28.105</td>\n",
       "      <td>0.029</td>\n",
       "      <td>0.0</td>\n",
       "    </tr>\n",
       "  </tbody>\n",
       "</table>\n",
       "</div>"
      ],
      "text/plain": [
       "   HJD-2400000.0  Magnitude  Uncertainty in Magnitude  Passband\n",
       "0   56423.664062     27.769                     0.030       0.0\n",
       "1   56423.812500     28.160                     0.029       0.0\n",
       "2   56423.894531     28.089                     0.021       0.0\n",
       "3   56424.718750     27.882                     0.024       0.0\n",
       "4   56424.808594     28.105                     0.029       0.0"
      ]
     },
     "execution_count": 13,
     "metadata": {},
     "output_type": "execute_result"
    }
   ],
   "source": [
    "saha = pd.read_csv('392work2.tab', sep = '\\s{5}', header = None, \n",
    "                   names = ['HJD-2400000.0', 'Magnitude', 'Uncertainty in Magnitude', 'Passband'], engine = 'python')\n",
    "saha.info()\n",
    "saha.head()"
   ]
  },
  {
   "cell_type": "code",
   "execution_count": 19,
   "metadata": {},
   "outputs": [
    {
     "data": {
      "text/html": [
       "<div>\n",
       "<style scoped>\n",
       "    .dataframe tbody tr th:only-of-type {\n",
       "        vertical-align: middle;\n",
       "    }\n",
       "\n",
       "    .dataframe tbody tr th {\n",
       "        vertical-align: top;\n",
       "    }\n",
       "\n",
       "    .dataframe thead th {\n",
       "        text-align: right;\n",
       "    }\n",
       "</style>\n",
       "<table border=\"1\" class=\"dataframe\">\n",
       "  <thead>\n",
       "    <tr style=\"text-align: right;\">\n",
       "      <th></th>\n",
       "      <th>HJD-2400000.0</th>\n",
       "      <th>Magnitude</th>\n",
       "      <th>Uncertainty in Magnitude</th>\n",
       "      <th>Passband</th>\n",
       "    </tr>\n",
       "  </thead>\n",
       "  <tbody>\n",
       "    <tr>\n",
       "      <th>0</th>\n",
       "      <td>56423.664062</td>\n",
       "      <td>27.769</td>\n",
       "      <td>0.030</td>\n",
       "      <td>u</td>\n",
       "    </tr>\n",
       "    <tr>\n",
       "      <th>1</th>\n",
       "      <td>56423.812500</td>\n",
       "      <td>28.160</td>\n",
       "      <td>0.029</td>\n",
       "      <td>u</td>\n",
       "    </tr>\n",
       "    <tr>\n",
       "      <th>2</th>\n",
       "      <td>56423.894531</td>\n",
       "      <td>28.089</td>\n",
       "      <td>0.021</td>\n",
       "      <td>u</td>\n",
       "    </tr>\n",
       "    <tr>\n",
       "      <th>3</th>\n",
       "      <td>56424.718750</td>\n",
       "      <td>27.882</td>\n",
       "      <td>0.024</td>\n",
       "      <td>u</td>\n",
       "    </tr>\n",
       "    <tr>\n",
       "      <th>4</th>\n",
       "      <td>56424.808594</td>\n",
       "      <td>28.105</td>\n",
       "      <td>0.029</td>\n",
       "      <td>u</td>\n",
       "    </tr>\n",
       "  </tbody>\n",
       "</table>\n",
       "</div>"
      ],
      "text/plain": [
       "   HJD-2400000.0  Magnitude  Uncertainty in Magnitude Passband\n",
       "0   56423.664062     27.769                     0.030        u\n",
       "1   56423.812500     28.160                     0.029        u\n",
       "2   56423.894531     28.089                     0.021        u\n",
       "3   56424.718750     27.882                     0.024        u\n",
       "4   56424.808594     28.105                     0.029        u"
      ]
     },
     "execution_count": 19,
     "metadata": {},
     "output_type": "execute_result"
    }
   ],
   "source": [
    "saha['Passband'] = saha['Passband'].replace({0.0 : 'u', 1.0 : 'g', 2.0 : 'r', 3.0 : 'i', 4.0: 'z'})\n",
    "saha.head()"
   ]
  },
  {
   "cell_type": "code",
   "execution_count": 20,
   "metadata": {},
   "outputs": [
    {
     "data": {
      "text/html": [
       "<div>\n",
       "<style scoped>\n",
       "    .dataframe tbody tr th:only-of-type {\n",
       "        vertical-align: middle;\n",
       "    }\n",
       "\n",
       "    .dataframe tbody tr th {\n",
       "        vertical-align: top;\n",
       "    }\n",
       "\n",
       "    .dataframe thead th {\n",
       "        text-align: right;\n",
       "    }\n",
       "</style>\n",
       "<table border=\"1\" class=\"dataframe\">\n",
       "  <thead>\n",
       "    <tr style=\"text-align: right;\">\n",
       "      <th></th>\n",
       "      <th>HJD-2400000.0</th>\n",
       "      <th>Magnitude</th>\n",
       "      <th>Uncertainty in Magnitude</th>\n",
       "      <th>Passband</th>\n",
       "    </tr>\n",
       "  </thead>\n",
       "  <tbody>\n",
       "    <tr>\n",
       "      <th>365</th>\n",
       "      <td>57116.839844</td>\n",
       "      <td>21.776</td>\n",
       "      <td>0.015</td>\n",
       "      <td>z</td>\n",
       "    </tr>\n",
       "    <tr>\n",
       "      <th>366</th>\n",
       "      <td>57116.851562</td>\n",
       "      <td>21.850</td>\n",
       "      <td>0.017</td>\n",
       "      <td>z</td>\n",
       "    </tr>\n",
       "    <tr>\n",
       "      <th>367</th>\n",
       "      <td>57116.863281</td>\n",
       "      <td>21.840</td>\n",
       "      <td>0.019</td>\n",
       "      <td>z</td>\n",
       "    </tr>\n",
       "    <tr>\n",
       "      <th>368</th>\n",
       "      <td>57116.890625</td>\n",
       "      <td>21.875</td>\n",
       "      <td>0.012</td>\n",
       "      <td>z</td>\n",
       "    </tr>\n",
       "    <tr>\n",
       "      <th>369</th>\n",
       "      <td>57116.906250</td>\n",
       "      <td>21.879</td>\n",
       "      <td>0.012</td>\n",
       "      <td>z</td>\n",
       "    </tr>\n",
       "  </tbody>\n",
       "</table>\n",
       "</div>"
      ],
      "text/plain": [
       "     HJD-2400000.0  Magnitude  Uncertainty in Magnitude Passband\n",
       "365   57116.839844     21.776                     0.015        z\n",
       "366   57116.851562     21.850                     0.017        z\n",
       "367   57116.863281     21.840                     0.019        z\n",
       "368   57116.890625     21.875                     0.012        z\n",
       "369   57116.906250     21.879                     0.012        z"
      ]
     },
     "execution_count": 20,
     "metadata": {},
     "output_type": "execute_result"
    }
   ],
   "source": [
    "saha.tail()"
   ]
  },
  {
   "cell_type": "code",
   "execution_count": 26,
   "metadata": {},
   "outputs": [
    {
     "data": {
      "image/png": "[encoded data removed]",
      "text/plain": [
       "<Figure size 432x288 with 1 Axes>"
      ]
     },
     "metadata": {},
     "output_type": "display_data"
    }
   ],
   "source": [
    "saha.plot(0, 1, kind = 'scatter');"
   ]
  },
  {
   "cell_type": "code",
   "execution_count": 41,
   "metadata": {},
   "outputs": [],
   "source": [
    "epoch = saha.iloc[:, 0].values\n",
    "magnitudes = saha.iloc[:, 1].values\n",
    "magnitude_errors = saha.iloc[:, 2].values"
   ]
  },
  {
   "cell_type": "code",
   "execution_count": null,
   "metadata": {},
   "outputs": [],
   "source": []
  }
 ],
 "metadata": {
  "kernelspec": {
   "display_name": "Python 3",
   "language": "python",
   "name": "python3"
  },
  "language_info": {
   "codemirror_mode": {
    "name": "ipython",
    "version": 3
   },
   "file_extension": ".py",
   "mimetype": "text/x-python",
   "name": "python",
   "nbconvert_exporter": "python",
   "pygments_lexer": "ipython3",
   "version": "3.6.5"
  }
 },
 "nbformat": 4,
 "nbformat_minor": 2
}
